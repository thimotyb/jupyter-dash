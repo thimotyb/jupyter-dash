{
  "nbformat": 4,
  "nbformat_minor": 0,
  "metadata": {
    "colab": {
      "name": "Hello-Dash.ipynb",
      "provenance": [],
      "collapsed_sections": [],
      "authorship_tag": "ABX9TyO1cMvdCCwki5DEnsmUZetU",
      "include_colab_link": true
    },
    "kernelspec": {
      "name": "python3",
      "display_name": "Python 3"
    }
  },
  "cells": [
    {
      "cell_type": "markdown",
      "metadata": {
        "id": "view-in-github",
        "colab_type": "text"
      },
      "source": [
        "<a href=\"https://colab.research.google.com/github/thimotyb/jupyter-dash/blob/master/Hello_Dash.ipynb\" target=\"_parent\"><img src=\"https://colab.research.google.com/assets/colab-badge.svg\" alt=\"Open In Colab\"/></a>"
      ]
    },
    {
      "cell_type": "code",
      "metadata": {
        "id": "MsQiCTIjZwQQ",
        "outputId": "3e0b10ac-8e6f-4168-a865-14ee175c733e",
        "colab": {
          "base_uri": "https://localhost:8080/",
          "height": 1000
        }
      },
      "source": [
        "!pip install jupyter_dash\n",
        "from jupyter_dash import JupyterDash"
      ],
      "execution_count": 2,
      "outputs": [
        {
          "output_type": "stream",
          "text": [
            "Collecting jupyter_dash\n",
            "\u001b[?25l  Downloading https://files.pythonhosted.org/packages/b9/b9/5f9499a0154124a262c85e3a99033b9b3a20dc3d2707b587f52b32b60d76/jupyter_dash-0.3.1-py3-none-any.whl (49kB)\n",
            "\r\u001b[K     |██████▊                         | 10kB 15.9MB/s eta 0:00:01\r\u001b[K     |█████████████▍                  | 20kB 2.7MB/s eta 0:00:01\r\u001b[K     |████████████████████            | 30kB 3.5MB/s eta 0:00:01\r\u001b[K     |██████████████████████████▊     | 40kB 3.6MB/s eta 0:00:01\r\u001b[K     |████████████████████████████████| 51kB 2.1MB/s \n",
            "\u001b[?25hRequirement already satisfied: flask in /usr/local/lib/python3.6/dist-packages (from jupyter_dash) (1.1.2)\n",
            "Requirement already satisfied: retrying in /usr/local/lib/python3.6/dist-packages (from jupyter_dash) (1.3.3)\n",
            "Collecting ansi2html\n",
            "  Downloading https://files.pythonhosted.org/packages/b7/f5/0d658908d70cb902609fbb39b9ce891b99e060fa06e98071d369056e346f/ansi2html-1.5.2.tar.gz\n",
            "Requirement already satisfied: ipykernel in /usr/local/lib/python3.6/dist-packages (from jupyter_dash) (4.10.1)\n",
            "Collecting dash\n",
            "\u001b[?25l  Downloading https://files.pythonhosted.org/packages/1e/ae/88f58a3e35f8802c46876928e6a5f829907c66a70735aaa47d09774a9439/dash-1.16.2.tar.gz (72kB)\n",
            "\u001b[K     |████████████████████████████████| 81kB 4.9MB/s \n",
            "\u001b[?25hRequirement already satisfied: ipython in /usr/local/lib/python3.6/dist-packages (from jupyter_dash) (5.5.0)\n",
            "Requirement already satisfied: requests in /usr/local/lib/python3.6/dist-packages (from jupyter_dash) (2.23.0)\n",
            "Requirement already satisfied: itsdangerous>=0.24 in /usr/local/lib/python3.6/dist-packages (from flask->jupyter_dash) (1.1.0)\n",
            "Requirement already satisfied: Werkzeug>=0.15 in /usr/local/lib/python3.6/dist-packages (from flask->jupyter_dash) (1.0.1)\n",
            "Requirement already satisfied: click>=5.1 in /usr/local/lib/python3.6/dist-packages (from flask->jupyter_dash) (7.1.2)\n",
            "Requirement already satisfied: Jinja2>=2.10.1 in /usr/local/lib/python3.6/dist-packages (from flask->jupyter_dash) (2.11.2)\n",
            "Requirement already satisfied: six>=1.7.0 in /usr/local/lib/python3.6/dist-packages (from retrying->jupyter_dash) (1.15.0)\n",
            "Requirement already satisfied: tornado>=4.0 in /usr/local/lib/python3.6/dist-packages (from ipykernel->jupyter_dash) (5.1.1)\n",
            "Requirement already satisfied: jupyter-client in /usr/local/lib/python3.6/dist-packages (from ipykernel->jupyter_dash) (5.3.5)\n",
            "Requirement already satisfied: traitlets>=4.1.0 in /usr/local/lib/python3.6/dist-packages (from ipykernel->jupyter_dash) (4.3.3)\n",
            "Collecting flask-compress\n",
            "  Downloading https://files.pythonhosted.org/packages/a0/96/cd684c1ffe97b513303b5bfd4bbfb4114c5f4a5ea8a737af6fd813273df8/Flask-Compress-1.5.0.tar.gz\n",
            "Requirement already satisfied: plotly in /usr/local/lib/python3.6/dist-packages (from dash->jupyter_dash) (4.4.1)\n",
            "Collecting dash_renderer==1.8.2\n",
            "\u001b[?25l  Downloading https://files.pythonhosted.org/packages/c4/f6/bd39b1cb56f7e2156163e8fc344c288c416cff659abf9bd5ed918e4b729b/dash_renderer-1.8.2.tar.gz (1.0MB)\n",
            "\u001b[K     |████████████████████████████████| 1.0MB 7.9MB/s \n",
            "\u001b[?25hCollecting dash-core-components==1.12.1\n",
            "\u001b[?25l  Downloading https://files.pythonhosted.org/packages/bb/9e/979263a03963d7ac70229ae9a9a118640dd3ef9b57c5d0c89d3d18f073e7/dash_core_components-1.12.1.tar.gz (3.4MB)\n",
            "\u001b[K     |████████████████████████████████| 3.4MB 13.4MB/s \n",
            "\u001b[?25hCollecting dash-html-components==1.1.1\n",
            "\u001b[?25l  Downloading https://files.pythonhosted.org/packages/02/ba/bb9427c62feb25bfbaf243894eeeb4e7c67a92b426ed0575a167100e436e/dash_html_components-1.1.1.tar.gz (188kB)\n",
            "\u001b[K     |████████████████████████████████| 194kB 41.9MB/s \n",
            "\u001b[?25hCollecting dash-table==4.10.1\n",
            "\u001b[?25l  Downloading https://files.pythonhosted.org/packages/a9/85/2408091d71af9af8c5ce6855730ff2e3e443ba8a667864e22f0881f4d785/dash_table-4.10.1.tar.gz (1.8MB)\n",
            "\u001b[K     |████████████████████████████████| 1.8MB 40.4MB/s \n",
            "\u001b[?25hRequirement already satisfied: future in /usr/local/lib/python3.6/dist-packages (from dash->jupyter_dash) (0.16.0)\n",
            "Requirement already satisfied: pickleshare in /usr/local/lib/python3.6/dist-packages (from ipython->jupyter_dash) (0.7.5)\n",
            "Requirement already satisfied: simplegeneric>0.8 in /usr/local/lib/python3.6/dist-packages (from ipython->jupyter_dash) (0.8.1)\n",
            "Requirement already satisfied: prompt-toolkit<2.0.0,>=1.0.4 in /usr/local/lib/python3.6/dist-packages (from ipython->jupyter_dash) (1.0.18)\n",
            "Requirement already satisfied: setuptools>=18.5 in /usr/local/lib/python3.6/dist-packages (from ipython->jupyter_dash) (50.3.0)\n",
            "Requirement already satisfied: pygments in /usr/local/lib/python3.6/dist-packages (from ipython->jupyter_dash) (2.6.1)\n",
            "Requirement already satisfied: pexpect; sys_platform != \"win32\" in /usr/local/lib/python3.6/dist-packages (from ipython->jupyter_dash) (4.8.0)\n",
            "Requirement already satisfied: decorator in /usr/local/lib/python3.6/dist-packages (from ipython->jupyter_dash) (4.4.2)\n",
            "Requirement already satisfied: chardet<4,>=3.0.2 in /usr/local/lib/python3.6/dist-packages (from requests->jupyter_dash) (3.0.4)\n",
            "Requirement already satisfied: certifi>=2017.4.17 in /usr/local/lib/python3.6/dist-packages (from requests->jupyter_dash) (2020.6.20)\n",
            "Requirement already satisfied: idna<3,>=2.5 in /usr/local/lib/python3.6/dist-packages (from requests->jupyter_dash) (2.10)\n",
            "Requirement already satisfied: urllib3!=1.25.0,!=1.25.1,<1.26,>=1.21.1 in /usr/local/lib/python3.6/dist-packages (from requests->jupyter_dash) (1.24.3)\n",
            "Requirement already satisfied: MarkupSafe>=0.23 in /usr/local/lib/python3.6/dist-packages (from Jinja2>=2.10.1->flask->jupyter_dash) (1.1.1)\n",
            "Requirement already satisfied: python-dateutil>=2.1 in /usr/local/lib/python3.6/dist-packages (from jupyter-client->ipykernel->jupyter_dash) (2.8.1)\n",
            "Requirement already satisfied: jupyter-core>=4.6.0 in /usr/local/lib/python3.6/dist-packages (from jupyter-client->ipykernel->jupyter_dash) (4.6.3)\n",
            "Requirement already satisfied: pyzmq>=13 in /usr/local/lib/python3.6/dist-packages (from jupyter-client->ipykernel->jupyter_dash) (19.0.2)\n",
            "Requirement already satisfied: ipython-genutils in /usr/local/lib/python3.6/dist-packages (from traitlets>=4.1.0->ipykernel->jupyter_dash) (0.2.0)\n",
            "Collecting brotli\n",
            "\u001b[?25l  Downloading https://files.pythonhosted.org/packages/b4/d3/7c98f05b7b9103e2f3a112ba42f269c798155b3e5404fb80bb8f823aaebe/Brotli-1.0.9-cp36-cp36m-manylinux1_x86_64.whl (357kB)\n",
            "\u001b[K     |████████████████████████████████| 358kB 42.9MB/s \n",
            "\u001b[?25hRequirement already satisfied: wcwidth in /usr/local/lib/python3.6/dist-packages (from prompt-toolkit<2.0.0,>=1.0.4->ipython->jupyter_dash) (0.2.5)\n",
            "Requirement already satisfied: ptyprocess>=0.5 in /usr/local/lib/python3.6/dist-packages (from pexpect; sys_platform != \"win32\"->ipython->jupyter_dash) (0.6.0)\n",
            "Building wheels for collected packages: ansi2html, dash, flask-compress, dash-renderer, dash-core-components, dash-html-components, dash-table\n",
            "  Building wheel for ansi2html (setup.py) ... \u001b[?25l\u001b[?25hdone\n",
            "  Created wheel for ansi2html: filename=ansi2html-1.5.2-cp36-none-any.whl size=13862 sha256=15e4772cd0f7cbfa7c93d49b4f898d2d9b1fcb22ddde45bcea06643ee5907201\n",
            "  Stored in directory: /root/.cache/pip/wheels/f9/ea/e0/1ed3c3945ce073f930f3e5aa2b9bbadb03cd2efc8f8695cd61\n",
            "  Building wheel for dash (setup.py) ... \u001b[?25l\u001b[?25hdone\n",
            "  Created wheel for dash: filename=dash-1.16.2-cp36-none-any.whl size=82323 sha256=45174e0798e3c96e54a0dfa7856bdb9b7bbba4a9e23ce194d13fb7931bbed3bf\n",
            "  Stored in directory: /root/.cache/pip/wheels/26/de/29/8280c0d15ce1205fd9c6e2819e63ee6125b59dbe75a9a68968\n",
            "  Building wheel for flask-compress (setup.py) ... \u001b[?25l\u001b[?25hdone\n",
            "  Created wheel for flask-compress: filename=Flask_Compress-1.5.0-cp36-none-any.whl size=5272 sha256=6105978747c8ea5a05f1ed6652b4922db74e75ec778212e9087c25da06031bed\n",
            "  Stored in directory: /root/.cache/pip/wheels/f7/e9/e4/5afc286be7c87461375e33152558415dfeb0c8f5af3b50e742\n",
            "  Building wheel for dash-renderer (setup.py) ... \u001b[?25l\u001b[?25hdone\n",
            "  Created wheel for dash-renderer: filename=dash_renderer-1.8.2-cp36-none-any.whl size=1013929 sha256=1a271e04e622bad3fc037d148035ff6c72baa2d0ea60f5ea92e457e48a1dcaaf\n",
            "  Stored in directory: /root/.cache/pip/wheels/c8/8f/0f/9cf71e7362b302350e10fcc9ca7f0377b84a6ea14445c2d6aa\n",
            "  Building wheel for dash-core-components (setup.py) ... \u001b[?25l\u001b[?25hdone\n",
            "  Created wheel for dash-core-components: filename=dash_core_components-1.12.1-cp36-none-any.whl size=3475396 sha256=7bc2c1d5755fb24da17cf9f8a7b2b4de370b273fca0b28f7e09eb6c85722c901\n",
            "  Stored in directory: /root/.cache/pip/wheels/29/11/a0/0cf8183b6f7df4716bec25b0e089043cd161bb58accc6633a6\n",
            "  Building wheel for dash-html-components (setup.py) ... \u001b[?25l\u001b[?25hdone\n",
            "  Created wheel for dash-html-components: filename=dash_html_components-1.1.1-cp36-none-any.whl size=427894 sha256=a2e8f91625ad908260be7465192c377f8cfe02f3f268f5a4c22715babc11ead2\n",
            "  Stored in directory: /root/.cache/pip/wheels/8d/01/46/78e4de185a8a4a2da8ba31da16c52170f036d4cebeeb6e07a2\n",
            "  Building wheel for dash-table (setup.py) ... \u001b[?25l\u001b[?25hdone\n",
            "  Created wheel for dash-table: filename=dash_table-4.10.1-cp36-none-any.whl size=1824995 sha256=5153464e23c7c08fbd90919c5d117dcfd41881b20301bfbc41905c430cff4293\n",
            "  Stored in directory: /root/.cache/pip/wheels/3d/c2/fd/50a7ea0b9aef63cf3bf3c5fb22799b8ba9a97ea8f9b14b7124\n",
            "Successfully built ansi2html dash flask-compress dash-renderer dash-core-components dash-html-components dash-table\n",
            "Installing collected packages: ansi2html, brotli, flask-compress, dash-renderer, dash-core-components, dash-html-components, dash-table, dash, jupyter-dash\n",
            "Successfully installed ansi2html-1.5.2 brotli-1.0.9 dash-1.16.2 dash-core-components-1.12.1 dash-html-components-1.1.1 dash-renderer-1.8.2 dash-table-4.10.1 flask-compress-1.5.0 jupyter-dash-0.3.1\n"
          ],
          "name": "stdout"
        }
      ]
    },
    {
      "cell_type": "markdown",
      "metadata": {
        "id": "m4BLIFcIaWS_"
      },
      "source": [
        "Explanation on:\n",
        "https://dash.plotly.com/layout"
      ]
    },
    {
      "cell_type": "code",
      "metadata": {
        "id": "S-26QogtZxb8",
        "outputId": "beab3c5e-59e4-4a0b-a915-f84e3051dc0f",
        "colab": {
          "base_uri": "https://localhost:8080/",
          "height": 51
        }
      },
      "source": [
        "\n",
        "import dash\n",
        "import dash_core_components as dcc\n",
        "import dash_html_components as html\n",
        "import plotly.express as px\n",
        "import pandas as pd\n",
        "\n",
        "external_stylesheets = ['https://codepen.io/chriddyp/pen/bWLwgP.css']\n",
        "\n",
        "app = JupyterDash(__name__, external_stylesheets=external_stylesheets)\n",
        "\n",
        "colors = {\n",
        "    'background': '#111111',\n",
        "    'text': '#7FDBFF'\n",
        "}\n",
        "\n",
        "# assume you have a \"long-form\" data frame\n",
        "# see https://plotly.com/python/px-arguments/ for more options\n",
        "df = pd.DataFrame({\n",
        "    \"Fruit\": [\"Apples\", \"Oranges\", \"Bananas\", \"Apples\", \"Oranges\", \"Bananas\"],\n",
        "    \"Amount\": [4, 1, 2, 2, 4, 5],\n",
        "    \"City\": [\"SF\", \"SF\", \"SF\", \"Montreal\", \"Montreal\", \"Montreal\"]\n",
        "})\n",
        "\n",
        "fig = px.bar(df, x=\"Fruit\", y=\"Amount\", color=\"City\", barmode=\"group\")\n",
        "\n",
        "fig.update_layout(\n",
        "    plot_bgcolor=colors['background'],\n",
        "    paper_bgcolor=colors['background'],\n",
        "    font_color=colors['text']\n",
        ")\n",
        "\n",
        "app.layout = html.Div(style={'backgroundColor': colors['background']}, children=[\n",
        "    html.H1(\n",
        "        children='Hello Dash',\n",
        "        style={\n",
        "            'textAlign': 'center',\n",
        "            'color': colors['text']\n",
        "        }\n",
        "    ),\n",
        "\n",
        "    html.Div(children='Dash: A web application framework for Python.', style={\n",
        "        'textAlign': 'center',\n",
        "        'color': colors['text']\n",
        "    }),\n",
        "\n",
        "    dcc.Graph(\n",
        "        id='example-graph-2',\n",
        "        figure=fig\n",
        "    )\n",
        "])\n",
        "\n",
        "app.run_server()"
      ],
      "execution_count": 3,
      "outputs": [
        {
          "output_type": "stream",
          "text": [
            "Dash app running on:\n"
          ],
          "name": "stdout"
        },
        {
          "output_type": "display_data",
          "data": {
            "application/javascript": [
              "(async (port, path, text, element) => {\n",
              "    if (!google.colab.kernel.accessAllowed) {\n",
              "      return;\n",
              "    }\n",
              "    element.appendChild(document.createTextNode(''));\n",
              "    const url = await google.colab.kernel.proxyPort(port);\n",
              "    const anchor = document.createElement('a');\n",
              "    anchor.href = url + path;\n",
              "    anchor.target = '_blank';\n",
              "    anchor.setAttribute('data-href', url + path);\n",
              "    anchor.textContent = text;\n",
              "    element.appendChild(anchor);\n",
              "  })(8050, \"/\", \"http://127.0.0.1:8050/\", window.element)"
            ],
            "text/plain": [
              "<IPython.core.display.Javascript object>"
            ]
          },
          "metadata": {
            "tags": []
          }
        }
      ]
    },
    {
      "cell_type": "code",
      "metadata": {
        "id": "y5U4Sb_IaEwn"
      },
      "source": [
        ""
      ],
      "execution_count": null,
      "outputs": []
    }
  ]
}